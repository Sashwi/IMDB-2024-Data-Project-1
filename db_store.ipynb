{
 "cells": [
  {
   "cell_type": "code",
   "execution_count": 6,
   "id": "08ef0f44",
   "metadata": {},
   "outputs": [
    {
     "name": "stdout",
     "output_type": "stream",
     "text": [
      "Requirement already satisfied: mysql-connector-python in c:\\users\\digital suppliers\\appdata\\local\\programs\\python\\python313\\lib\\site-packages (9.3.0)\n",
      "Requirement already satisfied: sqlalchemy in c:\\users\\digital suppliers\\appdata\\local\\programs\\python\\python313\\lib\\site-packages (2.0.40)\n",
      "Requirement already satisfied: pandas in c:\\users\\digital suppliers\\appdata\\local\\programs\\python\\python313\\lib\\site-packages (2.2.3)\n",
      "Requirement already satisfied: greenlet>=1 in c:\\users\\digital suppliers\\appdata\\local\\programs\\python\\python313\\lib\\site-packages (from sqlalchemy) (3.2.1)\n",
      "Requirement already satisfied: typing-extensions>=4.6.0 in c:\\users\\digital suppliers\\appdata\\local\\programs\\python\\python313\\lib\\site-packages (from sqlalchemy) (4.13.2)\n",
      "Requirement already satisfied: numpy>=1.26.0 in c:\\users\\digital suppliers\\appdata\\local\\programs\\python\\python313\\lib\\site-packages (from pandas) (2.2.5)\n",
      "Requirement already satisfied: python-dateutil>=2.8.2 in c:\\users\\digital suppliers\\appdata\\roaming\\python\\python313\\site-packages (from pandas) (2.9.0.post0)\n",
      "Requirement already satisfied: pytz>=2020.1 in c:\\users\\digital suppliers\\appdata\\local\\programs\\python\\python313\\lib\\site-packages (from pandas) (2025.2)\n",
      "Requirement already satisfied: tzdata>=2022.7 in c:\\users\\digital suppliers\\appdata\\local\\programs\\python\\python313\\lib\\site-packages (from pandas) (2025.2)\n",
      "Requirement already satisfied: six>=1.5 in c:\\users\\digital suppliers\\appdata\\roaming\\python\\python313\\site-packages (from python-dateutil>=2.8.2->pandas) (1.17.0)\n",
      "Note: you may need to restart the kernel to use updated packages.\n"
     ]
    }
   ],
   "source": [
    "pip install mysql-connector-python sqlalchemy pandas\n"
   ]
  },
  {
   "cell_type": "code",
   "execution_count": 7,
   "id": "b893cbbd",
   "metadata": {},
   "outputs": [
    {
     "name": "stdout",
     "output_type": "stream",
     "text": [
      "Requirement already satisfied: pandas in c:\\users\\digital suppliers\\appdata\\local\\programs\\python\\python313\\lib\\site-packages (2.2.3)\n",
      "Requirement already satisfied: sqlalchemy in c:\\users\\digital suppliers\\appdata\\local\\programs\\python\\python313\\lib\\site-packages (2.0.40)\n",
      "Requirement already satisfied: numpy>=1.26.0 in c:\\users\\digital suppliers\\appdata\\local\\programs\\python\\python313\\lib\\site-packages (from pandas) (2.2.5)\n",
      "Requirement already satisfied: python-dateutil>=2.8.2 in c:\\users\\digital suppliers\\appdata\\roaming\\python\\python313\\site-packages (from pandas) (2.9.0.post0)\n",
      "Requirement already satisfied: pytz>=2020.1 in c:\\users\\digital suppliers\\appdata\\local\\programs\\python\\python313\\lib\\site-packages (from pandas) (2025.2)\n",
      "Requirement already satisfied: tzdata>=2022.7 in c:\\users\\digital suppliers\\appdata\\local\\programs\\python\\python313\\lib\\site-packages (from pandas) (2025.2)\n",
      "Requirement already satisfied: greenlet>=1 in c:\\users\\digital suppliers\\appdata\\local\\programs\\python\\python313\\lib\\site-packages (from sqlalchemy) (3.2.1)\n",
      "Requirement already satisfied: typing-extensions>=4.6.0 in c:\\users\\digital suppliers\\appdata\\local\\programs\\python\\python313\\lib\\site-packages (from sqlalchemy) (4.13.2)\n",
      "Requirement already satisfied: six>=1.5 in c:\\users\\digital suppliers\\appdata\\roaming\\python\\python313\\site-packages (from python-dateutil>=2.8.2->pandas) (1.17.0)\n",
      "Note: you may need to restart the kernel to use updated packages.\n"
     ]
    }
   ],
   "source": [
    "pip install pandas sqlalchemy"
   ]
  },
  {
   "cell_type": "code",
   "execution_count": 11,
   "id": "50e73366",
   "metadata": {},
   "outputs": [
    {
     "name": "stdout",
     "output_type": "stream",
     "text": [
      "Requirement already satisfied: SQLAlchemy in c:\\users\\digital suppliers\\appdata\\local\\programs\\python\\python313\\lib\\site-packages (2.0.40)\n",
      "Requirement already satisfied: pymysql in c:\\users\\digital suppliers\\appdata\\local\\programs\\python\\python313\\lib\\site-packages (1.1.1)\n",
      "Requirement already satisfied: greenlet>=1 in c:\\users\\digital suppliers\\appdata\\local\\programs\\python\\python313\\lib\\site-packages (from SQLAlchemy) (3.2.1)\n",
      "Requirement already satisfied: typing-extensions>=4.6.0 in c:\\users\\digital suppliers\\appdata\\local\\programs\\python\\python313\\lib\\site-packages (from SQLAlchemy) (4.13.2)\n"
     ]
    }
   ],
   "source": [
    "!pip install SQLAlchemy pymysql\n",
    "\n",
    "\n"
   ]
  },
  {
   "cell_type": "code",
   "execution_count": null,
   "id": "408eda81",
   "metadata": {},
   "outputs": [
    {
     "name": "stdout",
     "output_type": "stream",
     "text": [
      "✅ Dataset uploaded to TiDB Cloud successfully!\n"
     ]
    }
   ],
   "source": [
    "from sqlalchemy import create_engine\n",
    "import pandas as pd\n",
    "\n",
    "# Load your cleaned dataset\n",
    "df = pd.read_csv(\"C:/Users/Digital Suppliers/webscraping/imdb_2024_cleaned_final_data.csv\")\n",
    "\n",
    "# Your TiDB Cloud credentials — replace with your own\n",
    "user = \"3GKvmKYDkcwtLEJ.root\"\n",
    "password = \"ZXoXz9ZyLjhQrn5O\"\n",
    "host = \"gateway01.ap-southeast-1.prod.aws.tidbcloud.com\"\n",
    "port = 4000\n",
    "database = \"imdb2024\"\n",
    "ssl_ca_path = \"C:/Users/Digital Suppliers/Downloads/ca.pem\"  # adjust this path!\n",
    "\n",
    "\n",
    "# Create secure SQLAlchemy engine with SSL certificate\n",
    "connection_url = (\n",
    "    f\"mysql+pymysql://{user}:{password}@{host}:{port}/{database}\"\n",
    "    f\"?ssl_ca={ssl_ca_path}\"\n",
    ")\n",
    "engine = create_engine(connection_url)\n",
    "\n",
    "# Upload to TiDB Cloud (replace table if it exists)\n",
    "df.to_sql(\"movies\", con=engine, if_exists=\"replace\", index=False)\n",
    "\n",
    "print(\"✅ Dataset uploaded to TiDB Cloud successfully!\")\n"
   ]
  }
 ],
 "metadata": {
  "kernelspec": {
   "display_name": "Python 3",
   "language": "python",
   "name": "python3"
  },
  "language_info": {
   "codemirror_mode": {
    "name": "ipython",
    "version": 3
   },
   "file_extension": ".py",
   "mimetype": "text/x-python",
   "name": "python",
   "nbconvert_exporter": "python",
   "pygments_lexer": "ipython3",
   "version": "3.13.3"
  }
 },
 "nbformat": 4,
 "nbformat_minor": 5
}
